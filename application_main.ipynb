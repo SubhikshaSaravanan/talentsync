{
  "nbformat": 4,
  "nbformat_minor": 0,
  "metadata": {
    "colab": {
      "provenance": []
    },
    "kernelspec": {
      "name": "python3",
      "display_name": "Python 3"
    },
    "language_info": {
      "name": "python"
    }
  },
  "cells": [
    {
      "cell_type": "code",
      "source": [
        "!pip install streamlit\n",
        "!pip install faiss-cpu"
      ],
      "metadata": {
        "colab": {
          "base_uri": "https://localhost:8080/"
        },
        "id": "WU2DCgknf3E8",
        "outputId": "b580eb3e-266b-49b7-e692-87622c14ab0a"
      },
      "execution_count": 5,
      "outputs": [
        {
          "output_type": "stream",
          "name": "stdout",
          "text": [
            "Requirement already satisfied: streamlit in /usr/local/lib/python3.11/dist-packages (1.44.1)\n",
            "Requirement already satisfied: altair<6,>=4.0 in /usr/local/lib/python3.11/dist-packages (from streamlit) (5.5.0)\n",
            "Requirement already satisfied: blinker<2,>=1.0.0 in /usr/local/lib/python3.11/dist-packages (from streamlit) (1.9.0)\n",
            "Requirement already satisfied: cachetools<6,>=4.0 in /usr/local/lib/python3.11/dist-packages (from streamlit) (5.5.2)\n",
            "Requirement already satisfied: click<9,>=7.0 in /usr/local/lib/python3.11/dist-packages (from streamlit) (8.1.8)\n",
            "Requirement already satisfied: numpy<3,>=1.23 in /usr/local/lib/python3.11/dist-packages (from streamlit) (2.0.2)\n",
            "Requirement already satisfied: packaging<25,>=20 in /usr/local/lib/python3.11/dist-packages (from streamlit) (24.2)\n",
            "Requirement already satisfied: pandas<3,>=1.4.0 in /usr/local/lib/python3.11/dist-packages (from streamlit) (2.2.2)\n",
            "Requirement already satisfied: pillow<12,>=7.1.0 in /usr/local/lib/python3.11/dist-packages (from streamlit) (11.2.1)\n",
            "Requirement already satisfied: protobuf<6,>=3.20 in /usr/local/lib/python3.11/dist-packages (from streamlit) (5.29.4)\n",
            "Requirement already satisfied: pyarrow>=7.0 in /usr/local/lib/python3.11/dist-packages (from streamlit) (18.1.0)\n",
            "Requirement already satisfied: requests<3,>=2.27 in /usr/local/lib/python3.11/dist-packages (from streamlit) (2.32.3)\n",
            "Requirement already satisfied: tenacity<10,>=8.1.0 in /usr/local/lib/python3.11/dist-packages (from streamlit) (9.1.2)\n",
            "Requirement already satisfied: toml<2,>=0.10.1 in /usr/local/lib/python3.11/dist-packages (from streamlit) (0.10.2)\n",
            "Requirement already satisfied: typing-extensions<5,>=4.4.0 in /usr/local/lib/python3.11/dist-packages (from streamlit) (4.13.2)\n",
            "Requirement already satisfied: watchdog<7,>=2.1.5 in /usr/local/lib/python3.11/dist-packages (from streamlit) (6.0.0)\n",
            "Requirement already satisfied: gitpython!=3.1.19,<4,>=3.0.7 in /usr/local/lib/python3.11/dist-packages (from streamlit) (3.1.44)\n",
            "Requirement already satisfied: pydeck<1,>=0.8.0b4 in /usr/local/lib/python3.11/dist-packages (from streamlit) (0.9.1)\n",
            "Requirement already satisfied: tornado<7,>=6.0.3 in /usr/local/lib/python3.11/dist-packages (from streamlit) (6.4.2)\n",
            "Requirement already satisfied: jinja2 in /usr/local/lib/python3.11/dist-packages (from altair<6,>=4.0->streamlit) (3.1.6)\n",
            "Requirement already satisfied: jsonschema>=3.0 in /usr/local/lib/python3.11/dist-packages (from altair<6,>=4.0->streamlit) (4.23.0)\n",
            "Requirement already satisfied: narwhals>=1.14.2 in /usr/local/lib/python3.11/dist-packages (from altair<6,>=4.0->streamlit) (1.36.0)\n",
            "Requirement already satisfied: gitdb<5,>=4.0.1 in /usr/local/lib/python3.11/dist-packages (from gitpython!=3.1.19,<4,>=3.0.7->streamlit) (4.0.12)\n",
            "Requirement already satisfied: python-dateutil>=2.8.2 in /usr/local/lib/python3.11/dist-packages (from pandas<3,>=1.4.0->streamlit) (2.9.0.post0)\n",
            "Requirement already satisfied: pytz>=2020.1 in /usr/local/lib/python3.11/dist-packages (from pandas<3,>=1.4.0->streamlit) (2025.2)\n",
            "Requirement already satisfied: tzdata>=2022.7 in /usr/local/lib/python3.11/dist-packages (from pandas<3,>=1.4.0->streamlit) (2025.2)\n",
            "Requirement already satisfied: charset-normalizer<4,>=2 in /usr/local/lib/python3.11/dist-packages (from requests<3,>=2.27->streamlit) (3.4.1)\n",
            "Requirement already satisfied: idna<4,>=2.5 in /usr/local/lib/python3.11/dist-packages (from requests<3,>=2.27->streamlit) (3.10)\n",
            "Requirement already satisfied: urllib3<3,>=1.21.1 in /usr/local/lib/python3.11/dist-packages (from requests<3,>=2.27->streamlit) (2.4.0)\n",
            "Requirement already satisfied: certifi>=2017.4.17 in /usr/local/lib/python3.11/dist-packages (from requests<3,>=2.27->streamlit) (2025.1.31)\n",
            "Requirement already satisfied: smmap<6,>=3.0.1 in /usr/local/lib/python3.11/dist-packages (from gitdb<5,>=4.0.1->gitpython!=3.1.19,<4,>=3.0.7->streamlit) (5.0.2)\n",
            "Requirement already satisfied: MarkupSafe>=2.0 in /usr/local/lib/python3.11/dist-packages (from jinja2->altair<6,>=4.0->streamlit) (3.0.2)\n",
            "Requirement already satisfied: attrs>=22.2.0 in /usr/local/lib/python3.11/dist-packages (from jsonschema>=3.0->altair<6,>=4.0->streamlit) (25.3.0)\n",
            "Requirement already satisfied: jsonschema-specifications>=2023.03.6 in /usr/local/lib/python3.11/dist-packages (from jsonschema>=3.0->altair<6,>=4.0->streamlit) (2025.4.1)\n",
            "Requirement already satisfied: referencing>=0.28.4 in /usr/local/lib/python3.11/dist-packages (from jsonschema>=3.0->altair<6,>=4.0->streamlit) (0.36.2)\n",
            "Requirement already satisfied: rpds-py>=0.7.1 in /usr/local/lib/python3.11/dist-packages (from jsonschema>=3.0->altair<6,>=4.0->streamlit) (0.24.0)\n",
            "Requirement already satisfied: six>=1.5 in /usr/local/lib/python3.11/dist-packages (from python-dateutil>=2.8.2->pandas<3,>=1.4.0->streamlit) (1.17.0)\n",
            "Collecting faiss-cpu\n",
            "  Downloading faiss_cpu-1.11.0-cp311-cp311-manylinux_2_28_x86_64.whl.metadata (4.8 kB)\n",
            "Requirement already satisfied: numpy<3.0,>=1.25.0 in /usr/local/lib/python3.11/dist-packages (from faiss-cpu) (2.0.2)\n",
            "Requirement already satisfied: packaging in /usr/local/lib/python3.11/dist-packages (from faiss-cpu) (24.2)\n",
            "Downloading faiss_cpu-1.11.0-cp311-cp311-manylinux_2_28_x86_64.whl (31.3 MB)\n",
            "\u001b[2K   \u001b[90m━━━━━━━━━━━━━━━━━━━━━━━━━━━━━━━━━━━━━━━━\u001b[0m \u001b[32m31.3/31.3 MB\u001b[0m \u001b[31m14.3 MB/s\u001b[0m eta \u001b[36m0:00:00\u001b[0m\n",
            "\u001b[?25hInstalling collected packages: faiss-cpu\n",
            "Successfully installed faiss-cpu-1.11.0\n"
          ]
        }
      ]
    },
    {
      "cell_type": "code",
      "source": [
        "!mkdir pages"
      ],
      "metadata": {
        "colab": {
          "base_uri": "https://localhost:8080/"
        },
        "id": "Ok8GiMDvltNm",
        "outputId": "3614b5b2-b14e-4ae8-8d34-86c9f311d258"
      },
      "execution_count": 40,
      "outputs": [
        {
          "output_type": "stream",
          "name": "stdout",
          "text": [
            "mkdir: cannot create directory ‘pages’: File exists\n"
          ]
        }
      ]
    },
    {
      "cell_type": "code",
      "source": [
        "!mkdir assets\n",
        "!mv welcome_mascot.png assets/\n",
        "!mv recruiter_mascot.png assets/"
      ],
      "metadata": {
        "colab": {
          "base_uri": "https://localhost:8080/"
        },
        "id": "ZIeQLNYOvKW_",
        "outputId": "3b36ec9c-f41c-4a13-aa45-53b975d4749b"
      },
      "execution_count": 41,
      "outputs": [
        {
          "output_type": "stream",
          "name": "stdout",
          "text": [
            "mkdir: cannot create directory ‘assets’: File exists\n",
            "mv: cannot stat 'welcome_mascot.png': No such file or directory\n",
            "mv: cannot stat 'recruiter_mascot.png': No such file or directory\n"
          ]
        }
      ]
    },
    {
      "cell_type": "code",
      "source": [
        "!ls assets/"
      ],
      "metadata": {
        "colab": {
          "base_uri": "https://localhost:8080/"
        },
        "id": "u5JWqqCGvPF0",
        "outputId": "e2422ea2-af62-4b74-847a-ec874c08ac72"
      },
      "execution_count": 42,
      "outputs": [
        {
          "output_type": "stream",
          "name": "stdout",
          "text": [
            "recruiter_mascot.png  welcome_mascot.png\n"
          ]
        }
      ]
    },
    {
      "cell_type": "code",
      "execution_count": 43,
      "metadata": {
        "colab": {
          "base_uri": "https://localhost:8080/"
        },
        "id": "N7kds2AIfl28",
        "outputId": "32301e14-d881-4ece-b1bb-c3e443926b32"
      },
      "outputs": [
        {
          "output_type": "stream",
          "name": "stdout",
          "text": [
            "Overwriting pages/Home.py\n"
          ]
        }
      ],
      "source": [
        "%%writefile pages/Home.py\n",
        "import streamlit as st\n",
        "\n",
        "st.set_page_config(page_title=\"TalentSync Home\", page_icon=\"🦊\", layout=\"wide\")\n",
        "\n",
        "st.markdown(\n",
        "    \"\"\"\n",
        "    <style>\n",
        "    /* Apply Poppins font and bright white color */\n",
        "    html, body, [class*=\"css\"] {\n",
        "        font-family: 'Poppins', sans-serif;\n",
        "        color: #ffffff !important;\n",
        "        font-size: 18px;\n",
        "    }\n",
        "\n",
        "    /* Big white title */\n",
        "    h1 {\n",
        "        font-size: 60px !important;\n",
        "        color: #ffffff !important;\n",
        "        font-weight: bold !important;\n",
        "    }\n",
        "\n",
        "    /* Subheader */\n",
        "    h2, h3 {\n",
        "        font-size: 30px !important;\n",
        "        color: #ffffff !important;\n",
        "        font-weight: bold !important;\n",
        "    }\n",
        "\n",
        "    /* Center mascot image */\n",
        "    .stImage {\n",
        "        display: flex;\n",
        "        justify-content: center;\n",
        "    }\n",
        "\n",
        "    /* Text inside input boxes (if any later) */\n",
        "    input, textarea {\n",
        "        background-color: rgba(255, 255, 255, 0.1) !important;\n",
        "        color: #ffffff !important;\n",
        "        font-weight: bold;\n",
        "    }\n",
        "    </style>\n",
        "    \"\"\",\n",
        "    unsafe_allow_html=True\n",
        ")\n",
        "\n",
        "\n",
        "st.markdown('<div class=\"center\">', unsafe_allow_html=True)\n",
        "\n",
        "# Main Caption\n",
        "st.markdown('<p class=\"big-font\">Build Your Dream Team, No Cap </p>', unsafe_allow_html=True)\n",
        "\n",
        "# tagline\n",
        "st.markdown('<p class=\"small-font\">TalentSync makes recruiting smarter, faster, cooler. </p>', unsafe_allow_html=True)\n",
        "\n",
        "st.markdown('</div>', unsafe_allow_html=True)\n",
        "\n",
        "\n",
        "st.markdown('<div class=\"center\">', unsafe_allow_html=True)\n",
        "\n",
        "st.image(\"assets/welcome_mascot.png\", width=400)\n",
        "\n",
        "st.markdown('<p class=\"big-font\">Welcome to TalentSync!</p>', unsafe_allow_html=True)\n",
        "st.markdown('<p class=\"small-font\">Find the best candidates with AI-powered matching and explanations.</p>', unsafe_allow_html=True)\n",
        "\n",
        "if st.button(\"Start Recruiting\"):\n",
        "    st.switch_page(\"pages/Recruit.py\")\n",
        "\n",
        "st.markdown('</div>', unsafe_allow_html=True)"
      ]
    },
    {
      "cell_type": "code",
      "source": [
        "%%writefile pages/Recruit.py\n",
        "import streamlit as st\n",
        "import pandas as pd\n",
        "import numpy as np\n",
        "import faiss\n",
        "import torch\n",
        "from sentence_transformers import SentenceTransformer\n",
        "from transformers import pipeline\n",
        "import joblib\n",
        "import re\n",
        "from sklearn.feature_extraction.text import ENGLISH_STOP_WORDS\n",
        "\n",
        "import gdown\n",
        "\n",
        "# Upload files\n",
        "gdown.download('https://drive.google.com/uc?id=1F0ImqbHldf2rY9X2WhpuFzseqA0LTseJ', 'train-metadata.csv', quiet=False)\n",
        "\n",
        "df_train = pd.read_csv(\"train-metadata.csv\")\n",
        "df_test = pd.read_csv(\"test-metadata.csv\")\n",
        "df = pd.concat([df_train, df_test], ignore_index=True)\n",
        "\n",
        "train_embeddings = torch.load(\"train_embeddings.pt\")\n",
        "test_embeddings = torch.load(\"test_embeddings.pt\")\n",
        "all_embeddings = np.vstack([train_embeddings.numpy(), test_embeddings.numpy()])\n",
        "\n",
        "d = all_embeddings.shape[1]\n",
        "index = faiss.IndexFlatL2(d)\n",
        "index.add(all_embeddings)\n",
        "\n",
        "# Load models\n",
        "torch_device = 'cpu'\n",
        "embedding_model = SentenceTransformer(\"all-MiniLM-L6-v2\", device=torch_device)\n",
        "\n",
        "llm = pipeline(\"text2text-generation\", model=\"google/flan-t5-base\")\n",
        "trajectory_model = joblib.load('career_trajectory_model_rf.pkl')\n",
        "le = joblib.load('label_encoder.pkl')\n",
        "\n",
        "# Helper functions\n",
        "def extract_keywords(text):\n",
        "    words = set(re.findall(r\"\\b\\w+\\b\", text.lower()))\n",
        "    return words - ENGLISH_STOP_WORDS\n",
        "\n",
        "def get_common_skills(query, resume):\n",
        "    return extract_keywords(query) & extract_keywords(resume)\n",
        "\n",
        "def predict_career(resume):\n",
        "    try:\n",
        "        pred = trajectory_model.predict([resume])[0]\n",
        "        return le.inverse_transform([pred])[0]\n",
        "    except Exception as e:\n",
        "        return f\"Prediction Error: {str(e)}\"\n",
        "\n",
        "def generate_rag_explanation(job_description, resume_text):\n",
        "    prompt = (\n",
        "        \"You are an expert recruiter AI. Based on the following job description and candidate resume, \"\n",
        "        \"write a professional, detailed, and well-structured explanation (at least 6-8 sentences) \"\n",
        "        \"describing why the candidate is a strong fit. Focus on:\\n\"\n",
        "        \"- Matching skills\\n\"\n",
        "        \"- Relevant experience\\n\"\n",
        "        \"- Certifications or education\\n\"\n",
        "        \"- Alignment with job requirements\\n\\n\"\n",
        "        \"Use a formal tone, full sentences, and avoid repeating generic statements.\\n\\n\"\n",
        "        f\"Job Description:\\n{job_description}\\n\\n\"\n",
        "        f\"Candidate Resume:\\n{resume_text[:1200]}\\n\\n\"\n",
        "        \"Explanation:\"\n",
        "    )\n",
        "\n",
        "    result = llm(prompt, max_length=300, do_sample=False)[0]['generated_text']\n",
        "    return result\n",
        "\n",
        "def search_candidates(job_query, k=5):\n",
        "    query_vec = embedding_model.encode([job_query])\n",
        "    D, I = index.search(np.array(query_vec), k)\n",
        "\n",
        "    results = []\n",
        "    for idx in I[0]:\n",
        "        resume = df.iloc[idx][\"combined_text\"]\n",
        "        skills = list(get_common_skills(job_query, resume))\n",
        "\n",
        "        results.append({\n",
        "            \"Candidate ID\": f\"#{idx}\",\n",
        "            \"Matched Skills\": \", \".join(skills),\n",
        "            \"Resume Text\": resume\n",
        "        })\n",
        "    return results\n",
        "\n",
        "# Recruiter page UI\n",
        "st.set_page_config(page_title=\"TalentSync Recruit\", page_icon=\"🦊\", layout=\"wide\")\n",
        "\n",
        "st.image(\"assets/recruiter_mascot.png\", width=300)\n",
        "\n",
        "st.title(\"Start Recruiting Top Talent\")\n",
        "\n",
        "job_query = st.text_input(\"Enter Job Description or Ideal Candidate Profile\")\n",
        "\n",
        "if st.button(\"Find Top Candidates\"):\n",
        "    if not job_query.strip():\n",
        "        st.error(\"Please enter a valid job description.\")\n",
        "    else:\n",
        "        with st.spinner(\"Searching...\"):\n",
        "            results = search_candidates(job_query)\n",
        "            st.session_state.results = results\n",
        "            st.session_state.job_query = job_query\n",
        "\n",
        "if 'results' in st.session_state:\n",
        "    selected_candidate = st.selectbox(\n",
        "        \"Select a Candidate\",\n",
        "        [f\"{i}. {r['Candidate ID']} - {r['Matched Skills'][:50]}...\" for i, r in enumerate(st.session_state.results)]\n",
        "    )\n",
        "\n",
        "    if selected_candidate:\n",
        "        idx = int(selected_candidate.split(\".\")[0])\n",
        "        selected_resume = st.session_state.results[idx][\"Resume Text\"]\n",
        "\n",
        "        with st.spinner(\"Generating explanation and predicting career path...\"):\n",
        "            explanation = generate_rag_explanation(st.session_state.job_query, selected_resume)\n",
        "            trajectory = predict_career(selected_resume)\n",
        "\n",
        "        st.subheader(\"Explanation\")\n",
        "        st.info(explanation)\n",
        "\n",
        "        st.subheader(\"Predicted Career Path\")\n",
        "        st.success(trajectory)\n"
      ],
      "metadata": {
        "colab": {
          "base_uri": "https://localhost:8080/"
        },
        "id": "S1hzX8K8f9PY",
        "outputId": "9eab90c0-d0f2-49a6-9bb6-84187f7d393b"
      },
      "execution_count": 48,
      "outputs": [
        {
          "output_type": "stream",
          "name": "stdout",
          "text": [
            "Overwriting pages/Recruit.py\n"
          ]
        }
      ]
    },
    {
      "cell_type": "code",
      "source": [
        "%%writefile app.py\n",
        "import streamlit as st\n",
        "\n",
        "st.set_page_config(\n",
        "    page_title=\"TalentSync\",\n",
        "    page_icon=\"🎯\",\n",
        "    layout=\"wide\",\n",
        "    initial_sidebar_state=\"expanded\"\n",
        ")\n",
        "\n",
        "st.title(\"Welcome to TalentSync!\")\n",
        "st.write(\"Use the sidebar to navigate!\")"
      ],
      "metadata": {
        "colab": {
          "base_uri": "https://localhost:8080/"
        },
        "id": "Qwj8VY9_nHcx",
        "outputId": "284e2d93-321a-4d24-cd96-af6381dc0613"
      },
      "execution_count": 49,
      "outputs": [
        {
          "output_type": "stream",
          "name": "stdout",
          "text": [
            "Overwriting app.py\n"
          ]
        }
      ]
    },
    {
      "cell_type": "code",
      "source": [
        "%%writefile requirements.txt\n",
        "streamlit\n",
        "sentence-transformers\n",
        "transformers\n",
        "torch\n",
        "pandas\n",
        "numpy\n",
        "scikit-learn\n",
        "faiss-cpu\n",
        "gdown"
      ],
      "metadata": {
        "colab": {
          "base_uri": "https://localhost:8080/"
        },
        "id": "o-yR_47cnfRg",
        "outputId": "ff856981-08e3-441f-84fc-0aa183e19cea"
      },
      "execution_count": 50,
      "outputs": [
        {
          "output_type": "stream",
          "name": "stdout",
          "text": [
            "Overwriting requirements.txt\n"
          ]
        }
      ]
    },
    {
      "cell_type": "code",
      "source": [
        "!zip -r talentsync_project.zip app.py pages/ requirements.txt *.csv *.pt *.pkl assets/"
      ],
      "metadata": {
        "colab": {
          "base_uri": "https://localhost:8080/"
        },
        "id": "HxdpP2t5n04O",
        "outputId": "75f2fdcd-80f5-4dea-b1c6-b2b0e1e0e73b"
      },
      "execution_count": 51,
      "outputs": [
        {
          "output_type": "stream",
          "name": "stdout",
          "text": [
            "updating: app.py (deflated 30%)\n",
            "updating: pages/ (stored 0%)\n",
            "updating: pages/Home.py (deflated 60%)\n",
            "updating: pages/Recruit.py (deflated 57%)\n",
            "updating: requirements.txt (deflated 25%)\n",
            "updating: resume-trajectories.csv (deflated 93%)\n",
            "updating: test-metadata.csv (deflated 77%)\n",
            "updating: train-metadata.csv (deflated 77%)\n",
            "updating: test_embeddings.pt (deflated 7%)\n",
            "updating: train_embeddings.pt (deflated 7%)\n",
            "updating: career_trajectory_model_rf.pkl (deflated 96%)\n",
            "updating: label_encoder.pkl (deflated 61%)\n",
            "updating: assets/ (stored 0%)\n",
            "updating: assets/recruiter_mascot.png (deflated 2%)\n",
            "updating: assets/welcome_mascot.png (deflated 1%)\n"
          ]
        }
      ]
    }
  ]
}